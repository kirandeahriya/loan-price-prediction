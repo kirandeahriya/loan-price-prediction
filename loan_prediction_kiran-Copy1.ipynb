{
 "cells": [
  {
   "cell_type": "code",
   "execution_count": 1,
   "id": "15615577",
   "metadata": {},
   "outputs": [],
   "source": [
    "import pandas as pd\n",
    "import numpy as np\n",
    "import matplotlib.pyplot as plt\n",
    "import seaborn as sns\n",
    "import warnings\n",
    "warnings.filterwarnings('ignore')"
   ]
  },
  {
   "cell_type": "code",
   "execution_count": 2,
   "id": "126a8401",
   "metadata": {},
   "outputs": [],
   "source": [
    "train=pd.read_csv(\"train_X_CV.csv\")\n",
    "test=pd.read_csv(\"test_Y.csv\")"
   ]
  },
  {
   "cell_type": "code",
   "execution_count": 3,
   "id": "60c6ba99",
   "metadata": {},
   "outputs": [
    {
     "name": "stdout",
     "output_type": "stream",
     "text": [
      "      Loan_ID  Gender Married Dependents     Education Self_Employed  \\\n",
      "0    LP001002    Male      No          0      Graduate            No   \n",
      "1    LP001003    Male     Yes          1      Graduate            No   \n",
      "2    LP001005    Male     Yes          0      Graduate           Yes   \n",
      "3    LP001006    Male     Yes          0  Not Graduate            No   \n",
      "4    LP001008    Male      No          0      Graduate            No   \n",
      "..        ...     ...     ...        ...           ...           ...   \n",
      "609  LP002978  Female      No          0      Graduate            No   \n",
      "610  LP002979    Male     Yes         3+      Graduate            No   \n",
      "611  LP002983    Male     Yes          1      Graduate            No   \n",
      "612  LP002984    Male     Yes          2      Graduate            No   \n",
      "613  LP002990  Female      No          0      Graduate           Yes   \n",
      "\n",
      "     ApplicantIncome  CoapplicantIncome  LoanAmount  Loan_Amount_Term  \\\n",
      "0               5849                0.0         NaN             360.0   \n",
      "1               4583             1508.0       128.0             360.0   \n",
      "2               3000                0.0        66.0             360.0   \n",
      "3               2583             2358.0       120.0             360.0   \n",
      "4               6000                0.0       141.0             360.0   \n",
      "..               ...                ...         ...               ...   \n",
      "609             2900                0.0        71.0             360.0   \n",
      "610             4106                0.0        40.0             180.0   \n",
      "611             8072              240.0       253.0             360.0   \n",
      "612             7583                0.0       187.0             360.0   \n",
      "613             4583                0.0       133.0             360.0   \n",
      "\n",
      "     Credit_History Property_Area Loan_Status  \n",
      "0               1.0         Urban           Y  \n",
      "1               1.0         Rural           N  \n",
      "2               1.0         Urban           Y  \n",
      "3               1.0         Urban           Y  \n",
      "4               1.0         Urban           Y  \n",
      "..              ...           ...         ...  \n",
      "609             1.0         Rural           Y  \n",
      "610             1.0         Rural           Y  \n",
      "611             1.0         Urban           Y  \n",
      "612             1.0         Urban           Y  \n",
      "613             0.0     Semiurban           N  \n",
      "\n",
      "[614 rows x 13 columns]\n"
     ]
    }
   ],
   "source": [
    "print(train)"
   ]
  },
  {
   "cell_type": "code",
   "execution_count": 4,
   "id": "b2da068b",
   "metadata": {},
   "outputs": [],
   "source": [
    "train_original=train.copy()\n",
    "test_original=test.copy()"
   ]
  },
  {
   "cell_type": "code",
   "execution_count": 5,
   "id": "05fa12a3",
   "metadata": {},
   "outputs": [
    {
     "name": "stdout",
     "output_type": "stream",
     "text": [
      "Data Types  of Train Data Set\n",
      "Loan_ID               object\n",
      "Gender                object\n",
      "Married               object\n",
      "Dependents            object\n",
      "Education             object\n",
      "Self_Employed         object\n",
      "ApplicantIncome        int64\n",
      "CoapplicantIncome    float64\n",
      "LoanAmount           float64\n",
      "Loan_Amount_Term     float64\n",
      "Credit_History       float64\n",
      "Property_Area         object\n",
      "Loan_Status           object\n",
      "dtype: object\n"
     ]
    }
   ],
   "source": [
    "\n",
    "print(\"Data Types  of Train Data Set\")\n",
    "print(train.dtypes)"
   ]
  },
  {
   "cell_type": "code",
   "execution_count": 6,
   "id": "0a80a5d2",
   "metadata": {},
   "outputs": [
    {
     "name": "stdout",
     "output_type": "stream",
     "text": [
      "Attributes of Test Data Set\n",
      "Index(['Loan_ID', 'Gender', 'Married', 'Dependents', 'Education',\n",
      "       'Self_Employed', 'ApplicantIncome', 'CoapplicantIncome', 'LoanAmount',\n",
      "       'Loan_Amount_Term', 'Credit_History', 'Property_Area'],\n",
      "      dtype='object')\n"
     ]
    }
   ],
   "source": [
    "print(\"Attributes of Test Data Set\")\n",
    "print(test.columns)"
   ]
  },
  {
   "cell_type": "code",
   "execution_count": 7,
   "id": "46ac4bc0",
   "metadata": {},
   "outputs": [
    {
     "name": "stdout",
     "output_type": "stream",
     "text": [
      "Data Types  of Test Data Set\n",
      "Loan_ID               object\n",
      "Gender                object\n",
      "Married               object\n",
      "Dependents            object\n",
      "Education             object\n",
      "Self_Employed         object\n",
      "ApplicantIncome        int64\n",
      "CoapplicantIncome      int64\n",
      "LoanAmount           float64\n",
      "Loan_Amount_Term     float64\n",
      "Credit_History       float64\n",
      "Property_Area         object\n",
      "dtype: object\n"
     ]
    }
   ],
   "source": [
    "print(\"Data Types  of Test Data Set\")\n",
    "print(test.dtypes)"
   ]
  },
  {
   "cell_type": "code",
   "execution_count": 8,
   "id": "886224f6",
   "metadata": {},
   "outputs": [
    {
     "name": "stdout",
     "output_type": "stream",
     "text": [
      "Row n Col of train\n",
      "(614, 13)\n"
     ]
    }
   ],
   "source": [
    "print(\"Row n Col of train\")\n",
    "print(train.shape)"
   ]
  },
  {
   "cell_type": "code",
   "execution_count": 9,
   "id": "607a7b84",
   "metadata": {},
   "outputs": [
    {
     "name": "stdout",
     "output_type": "stream",
     "text": [
      "Row n Col of test\n",
      "(367, 12)\n",
      "Univariate Analysis train\n",
      "Y    422\n",
      "N    192\n",
      "Name: Loan_Status, dtype: int64\n"
     ]
    }
   ],
   "source": [
    "print(\"Row n Col of test\")\n",
    "print(test.shape)\n",
    "\n",
    "print(\"Univariate Analysis train\")\n",
    "print(train['Loan_Status'].value_counts())"
   ]
  },
  {
   "cell_type": "code",
   "execution_count": 10,
   "id": "a845837a",
   "metadata": {},
   "outputs": [
    {
     "name": "stdout",
     "output_type": "stream",
     "text": [
      "Univariate Analysis test\n",
      "Male      286\n",
      "Female     70\n",
      "Name: Gender, dtype: int64\n"
     ]
    }
   ],
   "source": [
    "print(\"Univariate Analysis test\")\n",
    "print(test['Gender'].value_counts())"
   ]
  },
  {
   "cell_type": "code",
   "execution_count": 11,
   "id": "31621272",
   "metadata": {},
   "outputs": [
    {
     "name": "stdout",
     "output_type": "stream",
     "text": [
      "AxesSubplot(0.125,0.125;0.775x0.755)\n"
     ]
    },
    {
     "data": {
      "image/png": "[encoded data removed]",
      "text/plain": [
       "<Figure size 432x288 with 1 Axes>"
      ]
     },
     "metadata": {
      "needs_background": "light"
     },
     "output_type": "display_data"
    }
   ],
   "source": [
    "print(train['Loan_Status'].value_counts().plot.bar())\n",
    "plt.show()"
   ]
  },
  {
   "cell_type": "code",
   "execution_count": 12,
   "id": "c1dcdd8b",
   "metadata": {},
   "outputs": [
    {
     "data": {
      "image/png": "[encoded data removed]",
      "text/plain": [
       "<Figure size 1440x720 with 4 Axes>"
      ]
     },
     "metadata": {
      "needs_background": "light"
     },
     "output_type": "display_data"
    }
   ],
   "source": [
    "plt.figure(1)\n",
    "plt.subplot(221)\n",
    "train['Gender'].value_counts(normalize=True).plot.bar(figsize=(20,10), title= 'Gender')\n",
    "plt.subplot(222)\n",
    "train['Married'].value_counts(normalize=True).plot.bar(title= 'Married')\n",
    "plt.subplot(223) \n",
    "train['Self_Employed'].value_counts(normalize=True).plot.bar(title= 'Self_Employed')\n",
    "plt.subplot(224)\n",
    "train['Credit_History'].value_counts(normalize=True).plot.bar(title= 'Credit_History')\n",
    "plt.show()"
   ]
  },
  {
   "cell_type": "code",
   "execution_count": 13,
   "id": "675f8c1c",
   "metadata": {},
   "outputs": [
    {
     "data": {
      "image/png": "[encoded data removed]",
      "text/plain": [
       "<Figure size 288x288 with 1 Axes>"
      ]
     },
     "metadata": {
      "needs_background": "light"
     },
     "output_type": "display_data"
    }
   ],
   "source": [
    "Gender=pd.crosstab(train['Gender'],train['Loan_Status'])\n",
    "Gender.div(Gender.sum(1).astype(float),axis=0,).plot(kind=\"bar\",figsize=(4,4))\n",
    "plt.show()   "
   ]
  },
  {
   "cell_type": "code",
   "execution_count": null,
   "id": "84e7f75d",
   "metadata": {},
   "outputs": [],
   "source": []
  },
  {
   "cell_type": "code",
   "execution_count": 14,
   "id": "3d1d7c9a",
   "metadata": {},
   "outputs": [
    {
     "data": {
      "image/png": "[encoded data removed]",
      "text/plain": [
       "<Figure size 1728x432 with 3 Axes>"
      ]
     },
     "metadata": {
      "needs_background": "light"
     },
     "output_type": "display_data"
    }
   ],
   "source": [
    "\n",
    "train_original=train.copy()\n",
    "test_original=test.copy()\n",
    "plt.figure(1)\n",
    "plt.subplot(131)\n",
    "train['Dependents'].value_counts(normalize=True).plot.bar(figsize=(24,6),title='Dependents') \n",
    "plt.subplot(132)\n",
    "train['Education'].value_counts(normalize=True).plot.bar(title= 'Education') \n",
    "plt.subplot(133) \n",
    "train['Property_Area'].value_counts(normalize=True).plot.bar(title= 'Property_Area') \n",
    "plt.show()"
   ]
  },
  {
   "cell_type": "code",
   "execution_count": 15,
   "id": "f5093271",
   "metadata": {},
   "outputs": [
    {
     "data": {
      "image/png": "[encoded data removed]",
      "text/plain": [
       "<Figure size 432x432 with 1 Axes>"
      ]
     },
     "metadata": {
      "needs_background": "light"
     },
     "output_type": "display_data"
    },
    {
     "data": {
      "image/png": "[encoded data removed]",
      "text/plain": [
       "<Figure size 432x288 with 1 Axes>"
      ]
     },
     "metadata": {
      "needs_background": "light"
     },
     "output_type": "display_data"
    },
    {
     "data": {
      "image/png": "[encoded data removed]",
      "text/plain": [
       "<Figure size 432x432 with 1 Axes>"
      ]
     },
     "metadata": {
      "needs_background": "light"
     },
     "output_type": "display_data"
    },
    {
     "data": {
      "image/png": "[encoded data removed]",
      "text/plain": [
       "<Figure size 432x432 with 1 Axes>"
      ]
     },
     "metadata": {
      "needs_background": "light"
     },
     "output_type": "display_data"
    }
   ],
   "source": [
    "Married=pd.crosstab(train['Married'],train['Loan_Status']) \n",
    "Dependents=pd.crosstab(train['Dependents'],train['Loan_Status']) \n",
    "Education=pd.crosstab(train['Education'],train['Loan_Status']) \n",
    "Self_Employed=pd.crosstab(train['Self_Employed'],train['Loan_Status']) \n",
    "Married.div(Married.sum(1).astype(float), axis=0).plot(kind=\"bar\", figsize=(6,6)) \n",
    "plt.show() \n",
    "Dependents.div(Dependents.sum(1).astype(float), axis=0).plot(kind=\"bar\", stacked=True)\n",
    "plt.show() \n",
    "Education.div(Education.sum(1).astype(float), axis=0).plot(kind=\"bar\", figsize=(6,6)) \n",
    "plt.show() \n",
    "Self_Employed.div(Self_Employed.sum(1).astype(float),axis=0).plot(kind=\"bar\",figsize=(6,6))\n",
    "plt.show()\n"
   ]
  },
  {
   "cell_type": "code",
   "execution_count": 16,
   "id": "ea1d62e3",
   "metadata": {},
   "outputs": [
    {
     "data": {
      "image/png": "[encoded data removed]",
      "text/plain": [
       "<Figure size 1152x360 with 2 Axes>"
      ]
     },
     "metadata": {
      "needs_background": "light"
     },
     "output_type": "display_data"
    }
   ],
   "source": [
    "\n",
    "plt.figure(1)\n",
    "plt.subplot(121)\n",
    "df=train.dropna()\n",
    "sns.distplot(train['LoanAmount']);\n",
    "plt.subplot(122)\n",
    "train['LoanAmount'].plot.box(figsize=(16,5))\n",
    "plt.show()"
   ]
  },
  {
   "cell_type": "code",
   "execution_count": 17,
   "id": "4dfb29fd",
   "metadata": {},
   "outputs": [
    {
     "name": "stdout",
     "output_type": "stream",
     "text": [
      "(614, 13)\n"
     ]
    }
   ],
   "source": [
    "print(train.shape)"
   ]
  },
  {
   "cell_type": "code",
   "execution_count": 18,
   "id": "ffd1d995",
   "metadata": {},
   "outputs": [
    {
     "name": "stdout",
     "output_type": "stream",
     "text": [
      "Loan_ID              614\n",
      "Gender               601\n",
      "Married              611\n",
      "Dependents           599\n",
      "Education            614\n",
      "Self_Employed        582\n",
      "ApplicantIncome      614\n",
      "CoapplicantIncome    614\n",
      "LoanAmount           592\n",
      "Loan_Amount_Term     600\n",
      "Credit_History       564\n",
      "Property_Area        614\n",
      "Loan_Status          614\n",
      "dtype: int64\n"
     ]
    }
   ],
   "source": [
    "print(train.notnull().sum())"
   ]
  },
  {
   "cell_type": "code",
   "execution_count": 19,
   "id": "bbd400ec",
   "metadata": {},
   "outputs": [
    {
     "name": "stdout",
     "output_type": "stream",
     "text": [
      "0\n",
      "0\n",
      "0\n",
      "0\n",
      "0\n",
      "0\n",
      "0\n"
     ]
    }
   ],
   "source": [
    "train.isnull().sum()\n",
    "\n",
    "train[\"Gender\"].fillna(train['Gender'].value_counts().idxmax(),inplace=True)\n",
    "print(train['Gender'].isnull().sum())\n",
    "\n",
    "train[\"Married\"].fillna(train['Married'].value_counts().idxmax(),inplace=True)\n",
    "print(train[\"Married\"].isnull().sum())\n",
    "\n",
    "train.Dependents.fillna(train.Dependents.value_counts().idxmax(),inplace=True)\n",
    "print(train.Dependents.isnull().sum())\n",
    "\n",
    "train.Self_Employed.fillna(train.Self_Employed.value_counts().idxmax(),inplace=True)\n",
    "print(train.Self_Employed.isnull().sum())\n",
    "\n",
    "\n",
    "train.LoanAmount = train.LoanAmount.fillna(train.LoanAmount.mean())\n",
    "print(train.LoanAmount.isnull().sum())\n",
    "\n",
    "train.Credit_History=train.Credit_History.fillna(train.Credit_History.mean())\n",
    "print(train.Credit_History.isnull().sum())\n",
    "\n",
    "train.Loan_Amount_Term=train.Loan_Amount_Term.fillna(train.Loan_Amount_Term.mean())\n",
    "print(train.Loan_Amount_Term.isnull().sum())"
   ]
  },
  {
   "cell_type": "code",
   "execution_count": 20,
   "id": "0db51a84",
   "metadata": {},
   "outputs": [
    {
     "name": "stdout",
     "output_type": "stream",
     "text": [
      "[0      LP001002\n",
      "1      LP001003\n",
      "2      LP001005\n",
      "3      LP001006\n",
      "4      LP001008\n",
      "         ...   \n",
      "609    LP002978\n",
      "610    LP002979\n",
      "611    LP002983\n",
      "612    LP002984\n",
      "613    LP002990\n",
      "Name: Loan_ID, Length: 614, dtype: object, 0        Male\n",
      "1        Male\n",
      "2        Male\n",
      "3        Male\n",
      "4        Male\n",
      "        ...  \n",
      "609    Female\n",
      "610      Male\n",
      "611      Male\n",
      "612      Male\n",
      "613    Female\n",
      "Name: Gender, Length: 614, dtype: object, 0       No\n",
      "1      Yes\n",
      "2      Yes\n",
      "3      Yes\n",
      "4       No\n",
      "      ... \n",
      "609     No\n",
      "610    Yes\n",
      "611    Yes\n",
      "612    Yes\n",
      "613     No\n",
      "Name: Married, Length: 614, dtype: object, 0       0\n",
      "1       1\n",
      "2       0\n",
      "3       0\n",
      "4       0\n",
      "       ..\n",
      "609     0\n",
      "610    3+\n",
      "611     1\n",
      "612     2\n",
      "613     0\n",
      "Name: Dependents, Length: 614, dtype: object, 0          Graduate\n",
      "1          Graduate\n",
      "2          Graduate\n",
      "3      Not Graduate\n",
      "4          Graduate\n",
      "           ...     \n",
      "609        Graduate\n",
      "610        Graduate\n",
      "611        Graduate\n",
      "612        Graduate\n",
      "613        Graduate\n",
      "Name: Education, Length: 614, dtype: object, 0       No\n",
      "1       No\n",
      "2      Yes\n",
      "3       No\n",
      "4       No\n",
      "      ... \n",
      "609     No\n",
      "610     No\n",
      "611     No\n",
      "612     No\n",
      "613    Yes\n",
      "Name: Self_Employed, Length: 614, dtype: object, 0          Urban\n",
      "1          Rural\n",
      "2          Urban\n",
      "3          Urban\n",
      "4          Urban\n",
      "         ...    \n",
      "609        Rural\n",
      "610        Rural\n",
      "611        Urban\n",
      "612        Urban\n",
      "613    Semiurban\n",
      "Name: Property_Area, Length: 614, dtype: object, 0      Y\n",
      "1      N\n",
      "2      Y\n",
      "3      Y\n",
      "4      Y\n",
      "      ..\n",
      "609    Y\n",
      "610    Y\n",
      "611    Y\n",
      "612    Y\n",
      "613    N\n",
      "Name: Loan_Status, Length: 614, dtype: object]\n"
     ]
    }
   ],
   "source": [
    "cateagorical_data=[]\n",
    "Numerical_data=[]\n",
    "\n",
    "for i,c in enumerate(train.dtypes):\n",
    "    if c==object:\n",
    "        cateagorical_data.append(train.iloc[:,i])\n",
    "    else:\n",
    "        Numerical_data.append(train.iloc[:,i])\n",
    "print(cateagorical_data)\n"
   ]
  },
  {
   "cell_type": "code",
   "execution_count": 21,
   "id": "5d374a60",
   "metadata": {},
   "outputs": [
    {
     "name": "stdout",
     "output_type": "stream",
     "text": [
      "[0      5849\n",
      "1      4583\n",
      "2      3000\n",
      "3      2583\n",
      "4      6000\n",
      "       ... \n",
      "609    2900\n",
      "610    4106\n",
      "611    8072\n",
      "612    7583\n",
      "613    4583\n",
      "Name: ApplicantIncome, Length: 614, dtype: int64, 0         0.0\n",
      "1      1508.0\n",
      "2         0.0\n",
      "3      2358.0\n",
      "4         0.0\n",
      "        ...  \n",
      "609       0.0\n",
      "610       0.0\n",
      "611     240.0\n",
      "612       0.0\n",
      "613       0.0\n",
      "Name: CoapplicantIncome, Length: 614, dtype: float64, 0      146.412162\n",
      "1      128.000000\n",
      "2       66.000000\n",
      "3      120.000000\n",
      "4      141.000000\n",
      "          ...    \n",
      "609     71.000000\n",
      "610     40.000000\n",
      "611    253.000000\n",
      "612    187.000000\n",
      "613    133.000000\n",
      "Name: LoanAmount, Length: 614, dtype: float64, 0      360.0\n",
      "1      360.0\n",
      "2      360.0\n",
      "3      360.0\n",
      "4      360.0\n",
      "       ...  \n",
      "609    360.0\n",
      "610    180.0\n",
      "611    360.0\n",
      "612    360.0\n",
      "613    360.0\n",
      "Name: Loan_Amount_Term, Length: 614, dtype: float64, 0      1.0\n",
      "1      1.0\n",
      "2      1.0\n",
      "3      1.0\n",
      "4      1.0\n",
      "      ... \n",
      "609    1.0\n",
      "610    1.0\n",
      "611    1.0\n",
      "612    1.0\n",
      "613    0.0\n",
      "Name: Credit_History, Length: 614, dtype: float64]\n"
     ]
    }
   ],
   "source": [
    "print(Numerical_data)"
   ]
  },
  {
   "cell_type": "code",
   "execution_count": 22,
   "id": "2477b751",
   "metadata": {},
   "outputs": [],
   "source": [
    "cateagorical_data=pd.DataFrame(cateagorical_data).transpose()\n",
    "Numerical_data=pd.DataFrame(Numerical_data).transpose()"
   ]
  },
  {
   "cell_type": "code",
   "execution_count": 23,
   "id": "7e1708b7",
   "metadata": {},
   "outputs": [
    {
     "data": {
      "text/html": [
       "<div>\n",
       "<style scoped>\n",
       "    .dataframe tbody tr th:only-of-type {\n",
       "        vertical-align: middle;\n",
       "    }\n",
       "\n",
       "    .dataframe tbody tr th {\n",
       "        vertical-align: top;\n",
       "    }\n",
       "\n",
       "    .dataframe thead th {\n",
       "        text-align: right;\n",
       "    }\n",
       "</style>\n",
       "<table border=\"1\" class=\"dataframe\">\n",
       "  <thead>\n",
       "    <tr style=\"text-align: right;\">\n",
       "      <th></th>\n",
       "      <th>Loan_ID</th>\n",
       "      <th>Gender</th>\n",
       "      <th>Married</th>\n",
       "      <th>Dependents</th>\n",
       "      <th>Education</th>\n",
       "      <th>Self_Employed</th>\n",
       "      <th>Property_Area</th>\n",
       "      <th>Loan_Status</th>\n",
       "    </tr>\n",
       "  </thead>\n",
       "  <tbody>\n",
       "    <tr>\n",
       "      <th>0</th>\n",
       "      <td>LP001002</td>\n",
       "      <td>Male</td>\n",
       "      <td>No</td>\n",
       "      <td>0</td>\n",
       "      <td>Graduate</td>\n",
       "      <td>No</td>\n",
       "      <td>Urban</td>\n",
       "      <td>Y</td>\n",
       "    </tr>\n",
       "    <tr>\n",
       "      <th>1</th>\n",
       "      <td>LP001003</td>\n",
       "      <td>Male</td>\n",
       "      <td>Yes</td>\n",
       "      <td>1</td>\n",
       "      <td>Graduate</td>\n",
       "      <td>No</td>\n",
       "      <td>Rural</td>\n",
       "      <td>N</td>\n",
       "    </tr>\n",
       "    <tr>\n",
       "      <th>2</th>\n",
       "      <td>LP001005</td>\n",
       "      <td>Male</td>\n",
       "      <td>Yes</td>\n",
       "      <td>0</td>\n",
       "      <td>Graduate</td>\n",
       "      <td>Yes</td>\n",
       "      <td>Urban</td>\n",
       "      <td>Y</td>\n",
       "    </tr>\n",
       "    <tr>\n",
       "      <th>3</th>\n",
       "      <td>LP001006</td>\n",
       "      <td>Male</td>\n",
       "      <td>Yes</td>\n",
       "      <td>0</td>\n",
       "      <td>Not Graduate</td>\n",
       "      <td>No</td>\n",
       "      <td>Urban</td>\n",
       "      <td>Y</td>\n",
       "    </tr>\n",
       "    <tr>\n",
       "      <th>4</th>\n",
       "      <td>LP001008</td>\n",
       "      <td>Male</td>\n",
       "      <td>No</td>\n",
       "      <td>0</td>\n",
       "      <td>Graduate</td>\n",
       "      <td>No</td>\n",
       "      <td>Urban</td>\n",
       "      <td>Y</td>\n",
       "    </tr>\n",
       "    <tr>\n",
       "      <th>...</th>\n",
       "      <td>...</td>\n",
       "      <td>...</td>\n",
       "      <td>...</td>\n",
       "      <td>...</td>\n",
       "      <td>...</td>\n",
       "      <td>...</td>\n",
       "      <td>...</td>\n",
       "      <td>...</td>\n",
       "    </tr>\n",
       "    <tr>\n",
       "      <th>609</th>\n",
       "      <td>LP002978</td>\n",
       "      <td>Female</td>\n",
       "      <td>No</td>\n",
       "      <td>0</td>\n",
       "      <td>Graduate</td>\n",
       "      <td>No</td>\n",
       "      <td>Rural</td>\n",
       "      <td>Y</td>\n",
       "    </tr>\n",
       "    <tr>\n",
       "      <th>610</th>\n",
       "      <td>LP002979</td>\n",
       "      <td>Male</td>\n",
       "      <td>Yes</td>\n",
       "      <td>3+</td>\n",
       "      <td>Graduate</td>\n",
       "      <td>No</td>\n",
       "      <td>Rural</td>\n",
       "      <td>Y</td>\n",
       "    </tr>\n",
       "    <tr>\n",
       "      <th>611</th>\n",
       "      <td>LP002983</td>\n",
       "      <td>Male</td>\n",
       "      <td>Yes</td>\n",
       "      <td>1</td>\n",
       "      <td>Graduate</td>\n",
       "      <td>No</td>\n",
       "      <td>Urban</td>\n",
       "      <td>Y</td>\n",
       "    </tr>\n",
       "    <tr>\n",
       "      <th>612</th>\n",
       "      <td>LP002984</td>\n",
       "      <td>Male</td>\n",
       "      <td>Yes</td>\n",
       "      <td>2</td>\n",
       "      <td>Graduate</td>\n",
       "      <td>No</td>\n",
       "      <td>Urban</td>\n",
       "      <td>Y</td>\n",
       "    </tr>\n",
       "    <tr>\n",
       "      <th>613</th>\n",
       "      <td>LP002990</td>\n",
       "      <td>Female</td>\n",
       "      <td>No</td>\n",
       "      <td>0</td>\n",
       "      <td>Graduate</td>\n",
       "      <td>Yes</td>\n",
       "      <td>Semiurban</td>\n",
       "      <td>N</td>\n",
       "    </tr>\n",
       "  </tbody>\n",
       "</table>\n",
       "<p>614 rows × 8 columns</p>\n",
       "</div>"
      ],
      "text/plain": [
       "      Loan_ID  Gender Married Dependents     Education Self_Employed  \\\n",
       "0    LP001002    Male      No          0      Graduate            No   \n",
       "1    LP001003    Male     Yes          1      Graduate            No   \n",
       "2    LP001005    Male     Yes          0      Graduate           Yes   \n",
       "3    LP001006    Male     Yes          0  Not Graduate            No   \n",
       "4    LP001008    Male      No          0      Graduate            No   \n",
       "..        ...     ...     ...        ...           ...           ...   \n",
       "609  LP002978  Female      No          0      Graduate            No   \n",
       "610  LP002979    Male     Yes         3+      Graduate            No   \n",
       "611  LP002983    Male     Yes          1      Graduate            No   \n",
       "612  LP002984    Male     Yes          2      Graduate            No   \n",
       "613  LP002990  Female      No          0      Graduate           Yes   \n",
       "\n",
       "    Property_Area Loan_Status  \n",
       "0           Urban           Y  \n",
       "1           Rural           N  \n",
       "2           Urban           Y  \n",
       "3           Urban           Y  \n",
       "4           Urban           Y  \n",
       "..            ...         ...  \n",
       "609         Rural           Y  \n",
       "610         Rural           Y  \n",
       "611         Urban           Y  \n",
       "612         Urban           Y  \n",
       "613     Semiurban           N  \n",
       "\n",
       "[614 rows x 8 columns]"
      ]
     },
     "execution_count": 23,
     "metadata": {},
     "output_type": "execute_result"
    }
   ],
   "source": [
    "cateagorical_data"
   ]
  },
  {
   "cell_type": "code",
   "execution_count": 24,
   "id": "fda79509",
   "metadata": {},
   "outputs": [
    {
     "data": {
      "text/plain": [
       "False"
      ]
     },
     "execution_count": 24,
     "metadata": {},
     "output_type": "execute_result"
    }
   ],
   "source": [
    "cateagorical_data=cateagorical_data.apply(lambda x:x.fillna(x.value_counts().index[0]))\n",
    "cateagorical_data.isnull().sum().any()"
   ]
  },
  {
   "cell_type": "code",
   "execution_count": null,
   "id": "582ea306",
   "metadata": {},
   "outputs": [],
   "source": []
  },
  {
   "cell_type": "code",
   "execution_count": 25,
   "id": "285bed1e",
   "metadata": {},
   "outputs": [],
   "source": [
    "from sklearn.preprocessing import LabelEncoder\n",
    "LE=LabelEncoder()\n",
    "\n",
    "Label_value={\"Y\":0,\"N\":1}\n",
    "Label=cateagorical_data[\"Loan_Status\"]\n",
    "cateagorical_data.drop(\"Loan_Status\",axis=1,inplace=True)\n",
    "Label=Label.map(Label_value)"
   ]
  },
  {
   "cell_type": "code",
   "execution_count": 26,
   "id": "39310641",
   "metadata": {},
   "outputs": [],
   "source": [
    "for i in cateagorical_data:\n",
    "    cateagorical_data[i]=LE.fit_transform(cateagorical_data[i])"
   ]
  },
  {
   "cell_type": "code",
   "execution_count": 27,
   "id": "c5b93b3e",
   "metadata": {},
   "outputs": [],
   "source": [
    "from sklearn.model_selection import train_test_split\n",
    "X=pd.concat([cateagorical_data,Numerical_data],axis=1)\n",
    "Y=Label"
   ]
  },
  {
   "cell_type": "markdown",
   "id": "0053f1a6",
   "metadata": {},
   "source": [
    "### modeling\n",
    "For the process of modelling we have to first split the data into Train and Test data ."
   ]
  },
  {
   "cell_type": "code",
   "execution_count": 28,
   "id": "0e581b44",
   "metadata": {},
   "outputs": [],
   "source": [
    "x_train,x_test,y_train,y_test=train_test_split(X,Y,test_size=0.3,random_state=28)"
   ]
  },
  {
   "cell_type": "code",
   "execution_count": null,
   "id": "cbcef207",
   "metadata": {},
   "outputs": [],
   "source": []
  },
  {
   "cell_type": "markdown",
   "id": "f50585a7",
   "metadata": {},
   "source": [
    "Here we can see that we have done the 70% train and 30% split."
   ]
  },
  {
   "cell_type": "code",
   "execution_count": 29,
   "id": "edd9bab6",
   "metadata": {},
   "outputs": [],
   "source": [
    "from sklearn.linear_model import LogisticRegression\n",
    "from sklearn.neighbors import KNeighborsClassifier\n",
    "from sklearn.tree import DecisionTreeClassifier\n",
    "from sklearn.ensemble import RandomForestClassifier\n",
    "from sklearn.ensemble import AdaBoostClassifier\n",
    "\n",
    "models={\"LogisticRegression\":LogisticRegression(random_state=28),\n",
    "        \"KNeighborsClassifier\":KNeighborsClassifier(),\n",
    "        \"DecisionTreeClassifier\":DecisionTreeClassifier(max_depth=1,random_state=28),\n",
    "        \"RandomForestClassifier\":RandomForestClassifier(n_estimators=400,oob_score=True,random_state=28,n_jobs=-1),\n",
    "        \"AdaBoostClassifier\":AdaBoostClassifier(random_state=28)\n",
    "        }"
   ]
  },
  {
   "cell_type": "markdown",
   "id": "9b08a32e",
   "metadata": {},
   "source": [
    "Now we wil import the models we want to use:\n",
    "\n",
    "* LogisticRegression\n",
    "\n",
    "* KNeighborsClassifier\n",
    "\n",
    "* DecisionTreeClassifier\n",
    "\n",
    "* RandomForestClassifier\n",
    "\n",
    "* AdaBoostClassifier\n",
    "\n",
    "Notice:- that we have kept the random see to 28 so that every time we run it, selects the same randomness and we get the same output."
   ]
  },
  {
   "cell_type": "code",
   "execution_count": 30,
   "id": "96e174cd",
   "metadata": {},
   "outputs": [],
   "source": [
    "from sklearn.metrics import precision_score,accuracy_score\n",
    "\n",
    "def loss(y_true,y_pred,retu=False):\n",
    "    pre=precision_score(y_true,y_pred)\n",
    "    acc=accuracy_score(y_true,y_pred)\n",
    "\n",
    "\n",
    "    if retu:\n",
    "        return pre,acc\n",
    "    else:\n",
    "        print(' pre: %.3f\\n  acc: %.3f\\n '%(pre,acc))"
   ]
  },
  {
   "cell_type": "markdown",
   "id": "54773cc7",
   "metadata": {},
   "source": [
    "Now models have been built we,will like to see how well they perform for that we are suing the 2 score.\n",
    "\n",
    "* precision_score\n",
    "\n",
    "* accuracy_score"
   ]
  },
  {
   "cell_type": "markdown",
   "id": "d282bf9c",
   "metadata": {},
   "source": [
    "At last we will print the accucracy of all the models."
   ]
  },
  {
   "cell_type": "code",
   "execution_count": 31,
   "id": "0ac9d8bd",
   "metadata": {},
   "outputs": [
    {
     "name": "stdout",
     "output_type": "stream",
     "text": [
      "LogisticRegression  :\n",
      " pre: 0.862\n",
      "  acc: 0.800\n",
      " \n",
      "------------------------------\n",
      "KNeighborsClassifier  :\n",
      " pre: 0.625\n",
      "  acc: 0.732\n",
      " \n",
      "------------------------------\n",
      "DecisionTreeClassifier  :\n",
      " pre: 0.877\n",
      "  acc: 0.790\n",
      " \n",
      "------------------------------\n",
      "RandomForestClassifier  :\n",
      " pre: 1.000\n",
      "  acc: 1.000\n",
      " \n",
      "------------------------------\n",
      "AdaBoostClassifier  :\n",
      " pre: 0.898\n",
      "  acc: 0.853\n",
      " \n",
      "------------------------------\n"
     ]
    }
   ],
   "source": [
    "def train_pred_score(models,x,y):\n",
    "    for name,model in models.items():\n",
    "        print(name,\" :\")\n",
    "        model.fit(x,y)\n",
    "        loss(y,model.predict(x))\n",
    "        print(\"-\"*30)\n",
    "train_pred_score(models,x_train,y_train)"
   ]
  },
  {
   "cell_type": "markdown",
   "id": "89f33edd",
   "metadata": {},
   "source": [
    "**Form the various model we have plot here we can see that AdaBoostClassifier is performing the best as ,it is classifying all the Data points which were not classified in the first stumps and so on.**\n",
    "\n",
    "\n",
    "We could do a ensemble modelling to (votting) but as our model reached 91% it not recommended to do ensemble,you can try in will enventually will decrease the accuracy."
   ]
  },
  {
   "cell_type": "code",
   "execution_count": null,
   "id": "4546ef27",
   "metadata": {},
   "outputs": [],
   "source": []
  }
 ],
 "metadata": {
  "kernelspec": {
   "display_name": "Python 3 (ipykernel)",
   "language": "python",
   "name": "python3"
  },
  "language_info": {
   "codemirror_mode": {
    "name": "ipython",
    "version": 3
   },
   "file_extension": ".py",
   "mimetype": "text/x-python",
   "name": "python",
   "nbconvert_exporter": "python",
   "pygments_lexer": "ipython3",
   "version": "3.9.12"
  }
 },
 "nbformat": 4,
 "nbformat_minor": 5
}
